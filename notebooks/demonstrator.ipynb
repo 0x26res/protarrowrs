{
 "cells": [
  {
   "cell_type": "code",
   "execution_count": 1,
   "id": "d5bc1076-6263-4a0f-b56c-290a314a33dc",
   "metadata": {},
   "outputs": [
    {
     "name": "stdout",
     "output_type": "stream",
     "text": [
      "/Users/aandres/source/protarrowrs\n"
     ]
    },
    {
     "name": "stderr",
     "output_type": "stream",
     "text": [
      "/Users/aandres/source/protarrowrs/env/lib/python3.11/site-packages/IPython/core/magics/osm.py:417: UserWarning: This is now an optional IPython functionality, setting dhist requires you to install the `pickleshare` library.\n",
      "  self.shell.db['dhist'] = compress_dhist(dhist)[-100:]\n"
     ]
    }
   ],
   "source": [
    "%cd ../"
   ]
  },
  {
   "cell_type": "code",
   "execution_count": 2,
   "id": "3e7e8195-a6da-4da0-bbdb-dfe5ae752e3e",
   "metadata": {},
   "outputs": [
    {
     "name": "stderr",
     "output_type": "stream",
     "text": [
      "/Users/aandres/source/protarrowrs/env/lib/python3.11/site-packages/google/protobuf/runtime_version.py:112: UserWarning: Protobuf gencode version 5.27.2 is older than the runtime version 5.28.2 at ptars_protos/benchmark.proto. Please avoid checked-in Protobuf gencode that can be obsolete.\n",
      "  warnings.warn(\n"
     ]
    }
   ],
   "source": [
    "import random\n",
    "import secrets\n",
    "\n",
    "import protarrow\n",
    "\n",
    "import ptars\n",
    "from ptars_protos.benchmark_pb2 import BenchmarkMessage"
   ]
  },
  {
   "cell_type": "code",
   "execution_count": 3,
   "id": "83c97629-5553-4760-b2f8-3c3b911d11bb",
   "metadata": {},
   "outputs": [],
   "source": [
    "pool = ptars.HandlerPool()\n",
    "handler = pool.get_for_message(BenchmarkMessage.DESCRIPTOR)"
   ]
  },
  {
   "cell_type": "code",
   "execution_count": 4,
   "id": "34757cb6-9882-47d5-8689-68593f98415f",
   "metadata": {},
   "outputs": [],
   "source": [
    "MESSAGE_COUNT = 10_000\n",
    "STRING_SIZE = 10\n",
    "MIN_INT = -2147483648\n",
    "MAX_INT = 2147483647"
   ]
  },
  {
   "cell_type": "code",
   "execution_count": 5,
   "id": "a2192b04-19ee-4ed4-8937-c49b5cdbc6c0",
   "metadata": {},
   "outputs": [],
   "source": [
    "messages = [\n",
    "    BenchmarkMessage(\n",
    "        query=secrets.token_urlsafe(random.randint(0, STRING_SIZE)),\n",
    "        page_number=random.randint(MIN_INT, MAX_INT),\n",
    "        result_per_page=random.randint(MIN_INT, MAX_INT),\n",
    "    )\n",
    "    for _ in range(MESSAGE_COUNT)\n",
    "]\n",
    "\n",
    "payloads = [m.SerializeToString() for m in messages]"
   ]
  },
  {
   "cell_type": "code",
   "execution_count": 6,
   "id": "7d200de8-f1d1-49bb-a7a6-2488a7c07c41",
   "metadata": {},
   "outputs": [
    {
     "name": "stdout",
     "output_type": "stream",
     "text": [
      "14.2 ms ± 395 μs per loop (mean ± std. dev. of 7 runs, 1 loop each)\n"
     ]
    }
   ],
   "source": [
    "%%timeit\n",
    "protarrow.messages_to_record_batch(\n",
    "    [BenchmarkMessage.FromString(p) for p in payloads],\n",
    "    BenchmarkMessage,\n",
    ")"
   ]
  },
  {
   "cell_type": "code",
   "execution_count": 7,
   "id": "5f986916-ff38-448d-a12a-2eca5e04254a",
   "metadata": {},
   "outputs": [
    {
     "name": "stdout",
     "output_type": "stream",
     "text": [
      "86.6 ms ± 1.04 ms per loop (mean ± std. dev. of 7 runs, 10 loops each)\n"
     ]
    }
   ],
   "source": [
    "%%timeit\n",
    "handler.list_to_record_batch(payloads)"
   ]
  },
  {
   "cell_type": "code",
   "execution_count": 8,
   "id": "c7dfa27d-c24a-4d34-90df-717dfd3bcc6d",
   "metadata": {},
   "outputs": [],
   "source": [
    "record_batch = handler.list_to_record_batch(payloads)"
   ]
  },
  {
   "cell_type": "code",
   "execution_count": 9,
   "id": "b881d056-0dc6-4790-8a91-a7d3ec5061ac",
   "metadata": {},
   "outputs": [
    {
     "name": "stdout",
     "output_type": "stream",
     "text": [
      "68.4 ms ± 1.03 ms per loop (mean ± std. dev. of 7 runs, 10 loops each)\n"
     ]
    }
   ],
   "source": [
    "%%timeit\n",
    "handler.record_batch_to_array(record_batch)"
   ]
  },
  {
   "cell_type": "code",
   "execution_count": 10,
   "id": "fc0d9019-3f4e-4df4-a083-47fb35807e8b",
   "metadata": {},
   "outputs": [
    {
     "name": "stdout",
     "output_type": "stream",
     "text": [
      "38.6 ms ± 558 μs per loop (mean ± std. dev. of 7 runs, 10 loops each)\n"
     ]
    }
   ],
   "source": [
    "%%timeit\n",
    "[\n",
    "    m.SerializeToString()\n",
    "    for m in protarrow.record_batch_to_messages(record_batch, BenchmarkMessage)\n",
    "]"
   ]
  }
 ],
 "metadata": {
  "kernelspec": {
   "display_name": "Python 3 (ipykernel)",
   "language": "python",
   "name": "python3"
  },
  "language_info": {
   "codemirror_mode": {
    "name": "ipython",
    "version": 3
   },
   "file_extension": ".py",
   "mimetype": "text/x-python",
   "name": "python",
   "nbconvert_exporter": "python",
   "pygments_lexer": "ipython3",
   "version": "3.11.6"
  }
 },
 "nbformat": 4,
 "nbformat_minor": 5
}
